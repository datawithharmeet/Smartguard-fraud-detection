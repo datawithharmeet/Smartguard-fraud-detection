{
 "cells": [
  {
   "cell_type": "markdown",
   "id": "364183d2",
   "metadata": {},
   "source": [
    "### Test 1: Chi-Square Tests for Categorical Variables"
   ]
  },
  {
   "cell_type": "code",
   "execution_count": 3,
   "id": "fdb3621b",
   "metadata": {},
   "outputs": [],
   "source": [
    "import pandas as pd\n",
    "df = pd.read_csv(\"../artifacts/processed_data.csv\")\n"
   ]
  },
  {
   "cell_type": "code",
   "execution_count": 4,
   "id": "231ab452",
   "metadata": {},
   "outputs": [],
   "source": [
    "from scipy.stats import chi2_contingency\n",
    "import pandas as pd\n",
    "\n",
    "def run_chi_square_test(df, feature, target='fraud_label'):\n",
    "    \"\"\"\n",
    "    Performs a Chi-Square test between a categorical feature and a binary target.\n",
    "    \n",
    "    Parameters:\n",
    "    - df: pandas DataFrame\n",
    "    - feature: column name of the categorical feature\n",
    "    - target: column name of the binary target (default: 'fraud_label')\n",
    "    \n",
    "    Returns:\n",
    "    - None (prints result)\n",
    "    \"\"\"\n",
    "    print(f\"Chi-Square Test: {feature} vs {target}\")\n",
    "    contingency_table = pd.crosstab(df[feature], df[target])\n",
    "    chi2, p, dof, expected = chi2_contingency(contingency_table)\n",
    "\n",
    "    print(f\"Chi² Statistic: {chi2:.3f}\")\n",
    "    print(f\"Degrees of Freedom: {dof}\")\n",
    "    print(f\"p-value: {p:.5f}\")\n",
    "\n",
    "    if p < 0.05:\n",
    "        print(\"Result: Statistically significant — feature is likely associated with the target.\\n\")\n",
    "    else:\n",
    "        print(\"Result: Not statistically significant — likely not useful on its own.\\n\")\n"
   ]
  },
  {
   "cell_type": "code",
   "execution_count": 5,
   "id": "4b72d7a5",
   "metadata": {},
   "outputs": [
    {
     "name": "stdout",
     "output_type": "stream",
     "text": [
      "Chi-Square Test: card_type vs fraud_label\n",
      "Chi² Statistic: 349.383\n",
      "Degrees of Freedom: 2\n",
      "p-value: 0.00000\n",
      "Result: Statistically significant — feature is likely associated with the target.\n",
      "\n"
     ]
    }
   ],
   "source": [
    "run_chi_square_test(df, 'card_type')"
   ]
  },
  {
   "cell_type": "code",
   "execution_count": 6,
   "id": "746969d0",
   "metadata": {},
   "outputs": [
    {
     "name": "stdout",
     "output_type": "stream",
     "text": [
      "Chi-Square Test: card_brand vs fraud_label\n",
      "Chi² Statistic: 70.417\n",
      "Degrees of Freedom: 3\n",
      "p-value: 0.00000\n",
      "Result: Statistically significant — feature is likely associated with the target.\n",
      "\n"
     ]
    }
   ],
   "source": [
    "run_chi_square_test(df, 'card_brand')"
   ]
  },
  {
   "cell_type": "code",
   "execution_count": 7,
   "id": "395fb3d6",
   "metadata": {},
   "outputs": [
    {
     "name": "stdout",
     "output_type": "stream",
     "text": [
      "Chi-Square Test: use_chip vs fraud_label\n",
      "Chi² Statistic: 38468.717\n",
      "Degrees of Freedom: 2\n",
      "p-value: 0.00000\n",
      "Result: Statistically significant — feature is likely associated with the target.\n",
      "\n"
     ]
    }
   ],
   "source": [
    "run_chi_square_test(df, 'use_chip')"
   ]
  },
  {
   "cell_type": "markdown",
   "id": "53995eb9",
   "metadata": {},
   "source": [
    "### Test 1: Mann-Whitney Tests for Numerical Variables"
   ]
  },
  {
   "cell_type": "code",
   "execution_count": 12,
   "id": "86b24e4c",
   "metadata": {},
   "outputs": [],
   "source": [
    "from scipy.stats import mannwhitneyu\n",
    "\n",
    "def run_mannwhitney_test(df, feature, target='fraud_label'):\n",
    "    \"\"\"\n",
    "    Performs a Mann-Whitney U Test between a continuous feature and a binary target.\n",
    "    \"\"\"\n",
    "    fraud_values = df[df[target] == 1][feature]\n",
    "    legit_values = df[df[target] == 0][feature]\n",
    "\n",
    "    stat, p = mannwhitneyu(fraud_values, legit_values, alternative='two-sided')\n",
    "\n",
    "    print(f\"Mann–Whitney U Test: {feature} vs {target}\")\n",
    "    print(f\"U-statistic: {stat:.3f}\")\n",
    "    print(f\"p-value: {p:.5f}\")\n",
    "\n",
    "    if p < 0.05:\n",
    "        print(\"Result: Statistically significant — distributions differ across fraud and legit groups.\\n\")\n",
    "    else:\n",
    "        print(\"Result: Not statistically significant — no strong distributional difference.\\n\")\n"
   ]
  },
  {
   "cell_type": "code",
   "execution_count": 13,
   "id": "dca40961",
   "metadata": {},
   "outputs": [
    {
     "name": "stdout",
     "output_type": "stream",
     "text": [
      "Mann–Whitney U Test: log_amount vs fraud_label\n",
      "U-statistic: 78209416656.500\n",
      "p-value: 0.00000\n",
      "Result: Statistically significant — distributions differ across fraud and legit groups.\n",
      "\n"
     ]
    }
   ],
   "source": [
    "import numpy as np\n",
    "\n",
    "df['amount_clean'] = df['amount'].replace('[\\$,]', '', regex=True).astype(float)\n",
    "df['log_amount'] = df['amount_clean'].apply(lambda x: np.log1p(x) if x > 0 else 0)\n",
    "\n",
    "run_mannwhitney_test(df, 'log_amount')\n"
   ]
  },
  {
   "cell_type": "code",
   "execution_count": 14,
   "id": "5612b49a",
   "metadata": {},
   "outputs": [
    {
     "name": "stdout",
     "output_type": "stream",
     "text": [
      "Mann–Whitney U Test: credit_score vs fraud_label\n",
      "U-statistic: 59778827666.500\n",
      "p-value: 0.13788\n",
      "Result: Not statistically significant — no strong distributional difference.\n",
      "\n"
     ]
    }
   ],
   "source": [
    "run_mannwhitney_test(df, 'credit_score')"
   ]
  },
  {
   "cell_type": "code",
   "execution_count": 15,
   "id": "3c8058ce",
   "metadata": {},
   "outputs": [
    {
     "name": "stdout",
     "output_type": "stream",
     "text": [
      "Mann–Whitney U Test: log_income vs fraud_label\n",
      "U-statistic: 55668373889.500\n",
      "p-value: 0.00000\n",
      "Result: Statistically significant — distributions differ across fraud and legit groups.\n",
      "\n"
     ]
    }
   ],
   "source": [
    "df['yearly_income_clean'] = df['yearly_income'].replace('[\\$,]', '', regex=True).astype(float)\n",
    "df['log_income'] = df['yearly_income_clean'].apply(lambda x: np.log1p(x) if x > 0 else 0)\n",
    "\n",
    "run_mannwhitney_test(df, 'log_income')\n"
   ]
  },
  {
   "cell_type": "code",
   "execution_count": 16,
   "id": "226851e5",
   "metadata": {},
   "outputs": [
    {
     "name": "stdout",
     "output_type": "stream",
     "text": [
      "Mann–Whitney U Test: num_credit_cards vs fraud_label\n",
      "U-statistic: 64757987802.000\n",
      "p-value: 0.00000\n",
      "Result: Statistically significant — distributions differ across fraud and legit groups.\n",
      "\n"
     ]
    }
   ],
   "source": [
    "run_mannwhitney_test(df, 'num_credit_cards')\n"
   ]
  },
  {
   "cell_type": "markdown",
   "id": "9b4ab3ef",
   "metadata": {},
   "source": [
    "#### The number of credit cards owned by a user is statistically associated with fraud risk (p < 0.00001). This suggests that card ownership patterns may indicate behavioral red flags, such as synthetic identities or unusually low/high card usage.\n"
   ]
  },
  {
   "cell_type": "code",
   "execution_count": 17,
   "id": "4b0065be",
   "metadata": {},
   "outputs": [
    {
     "name": "stdout",
     "output_type": "stream",
     "text": [
      "Mann–Whitney U Test: num_cards_issued vs fraud_label\n",
      "U-statistic: 59193690507.000\n",
      "p-value: 0.57537\n",
      "Result: Not statistically significant — no strong distributional difference.\n",
      "\n"
     ]
    }
   ],
   "source": [
    "run_mannwhitney_test(df, 'num_cards_issued')\n"
   ]
  },
  {
   "cell_type": "markdown",
   "id": "e12a39f4",
   "metadata": {},
   "source": [
    "#### Mann–Whitney U tests revealed that `log_amount`, `log_income`, and `num_credit_cards` are significantly different between fraudulent and legitimate transactions (p < 0.00001). These features capture meaningful behavioral and financial patterns. Other features such as `credit_score` and `num_cards_issued` did not show statistically significant differences but may still add marginal value when combined with other variables.\n"
   ]
  },
  {
   "cell_type": "markdown",
   "id": "59afbbf4",
   "metadata": {},
   "source": []
  }
 ],
 "metadata": {
  "kernelspec": {
   "display_name": "Python 3",
   "language": "python",
   "name": "python3"
  },
  "language_info": {
   "codemirror_mode": {
    "name": "ipython",
    "version": 3
   },
   "file_extension": ".py",
   "mimetype": "text/x-python",
   "name": "python",
   "nbconvert_exporter": "python",
   "pygments_lexer": "ipython3",
   "version": "3.10.16"
  }
 },
 "nbformat": 4,
 "nbformat_minor": 5
}
